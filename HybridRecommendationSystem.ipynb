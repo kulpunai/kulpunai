{
 "cells": [
  {
   "cell_type": "code",
   "execution_count": 6,
   "id": "337a6c99",
   "metadata": {},
   "outputs": [],
   "source": [
    "import os\n",
    "import pandas as pd \n",
    "\n",
    "\n",
    "movie = pd.read_csv('/kaggle/input/movielens-20m-dataset/movie.csv')\n",
    "rating = pd.read_csv('/kaggle/input/movielens-20m-dataset/rating.csv')"
   ]
  },
  {
   "cell_type": "code",
   "execution_count": 11,
   "id": "99af61c4",
   "metadata": {},
   "outputs": [],
   "source": [
    "# Merging dataframes on movieId\n",
    "df = movie.merge(rating, how=\"left\", on=\"movieId\")"
   ]
  },
  {
   "cell_type": "code",
   "execution_count": 12,
   "id": "c8827930",
   "metadata": {},
   "outputs": [
    {
     "name": "stdout",
     "output_type": "stream",
     "text": [
      "<class 'pandas.core.frame.DataFrame'>\n",
      "Int64Index: 20000797 entries, 0 to 20000796\n",
      "Data columns (total 6 columns):\n",
      " #   Column     Dtype  \n",
      "---  ------     -----  \n",
      " 0   movieId    int64  \n",
      " 1   title      object \n",
      " 2   genres     object \n",
      " 3   userId     float64\n",
      " 4   rating     float64\n",
      " 5   timestamp  object \n",
      "dtypes: float64(2), int64(1), object(3)\n",
      "memory usage: 1.0+ GB\n"
     ]
    }
   ],
   "source": [
    "df.head()\n",
    "df.info()\n"
   ]
  },
  {
   "cell_type": "code",
   "execution_count": 13,
   "id": "c18b5309",
   "metadata": {},
   "outputs": [],
   "source": [
    "comment_counts = pd.DataFrame(df[\"title\"].value_counts())\n"
   ]
  },
  {
   "cell_type": "code",
   "execution_count": 14,
   "id": "edb15d44",
   "metadata": {},
   "outputs": [],
   "source": [
    "rare_movies = comment_counts[comment_counts[\"title\"] <= 1000].index"
   ]
  },
  {
   "cell_type": "code",
   "execution_count": 15,
   "id": "d4f0618b",
   "metadata": {},
   "outputs": [
    {
     "name": "stdout",
     "output_type": "stream",
     "text": [
      "28941\n"
     ]
    }
   ],
   "source": [
    "# Finding most commented movies and assigning as common_movies\n",
    "common_movies = df[~df[\"title\"].isin(rare_movies)]\n",
    "\n",
    "# Show user ratings by considering userid and movie names and assign the resulting pivot table as user_movie_df\n",
    "user_movie_df = common_movies.pivot_table(index=[\"userId\"], columns=[\"title\"], values=\"rating\")\n",
    "\n",
    "# Determining the random user to suggest\n",
    "random_user = int(pd.Series(user_movie_df.index).sample(1, random_state=45).values)\n",
    "print(random_user)\n"
   ]
  },
  {
   "cell_type": "code",
   "execution_count": 16,
   "id": "67a64084",
   "metadata": {},
   "outputs": [
    {
     "data": {
      "text/plain": [
       "33"
      ]
     },
     "execution_count": 16,
     "metadata": {},
     "output_type": "execute_result"
    }
   ],
   "source": [
    "# Determining the movies watched by the user to be suggested.\n",
    "\n",
    "# Assining random user as df\n",
    "random_user_df = user_movie_df[user_movie_df.index == random_user]\n",
    "\n",
    "# Assining the movies watched by random user as df\n",
    "movies_watched_random_user = random_user_df.columns[random_user_df.notna().any()].tolist()\n",
    "\n",
    "# Number of movies watched by random user\n",
    "len(movies_watched_random_user)"
   ]
  },
  {
   "cell_type": "code",
   "execution_count": 17,
   "id": "e585fe0d",
   "metadata": {},
   "outputs": [
    {
     "data": {
      "text/plain": [
       "Int64Index([    90,    129,    155,    157,    159,    183,    293,    294,\n",
       "               297,    308,\n",
       "            ...\n",
       "            137884, 137948, 137975, 138018, 138161, 138207, 138278, 138381,\n",
       "            138414, 138482],\n",
       "           dtype='int64', length=4139)"
      ]
     },
     "execution_count": 17,
     "metadata": {},
     "output_type": "execute_result"
    }
   ],
   "source": [
    "# Detecting the ids of other users watching the same movies\n",
    "\n",
    "# Shooting the watched movies with the audience ids in df\n",
    "movies_watched_df = user_movie_df[movies_watched_random_user]\n",
    "movies_watched_df.head()\n",
    "movies_watched_df.shape\n",
    "\n",
    "# Calculating how many of the movies watched by the users are the movies watched by the random user\n",
    "user_movie_count = movies_watched_df.T.notnull().sum()\n",
    "user_movie_count = user_movie_count.reset_index()\n",
    "user_movie_count.columns = [\"userId\", \"movie_count\"]\n",
    "\n",
    "# Selecting users with more than 60 percent similarity to recommend\n",
    "perc = len(movies_watched_random_user) * 60 / 100\n",
    "users_same_movies = user_movie_count[user_movie_count[\"movie_count\"] > perc][\"userId\"]\n",
    "\n",
    "# Checking the selected users\n",
    "users_same_movies.head()\n",
    "users_same_movies.count()\n",
    "users_same_movies.index"
   ]
  },
  {
   "cell_type": "code",
   "execution_count": 18,
   "id": "53549ee9",
   "metadata": {},
   "outputs": [],
   "source": [
    "# Determining the users who are most similar to the user to be suggested\n",
    "\n",
    "# Creating the final df\n",
    "final_df = movies_watched_df[movies_watched_df.index.isin(users_same_movies)]\n",
    "final_df.head()\n",
    "final_df.shape\n",
    "\n",
    "# Examining the relationship between selected users and each other\n",
    "corr_df = final_df.T.corr().unstack().sort_values()\n",
    "corr_df = pd.DataFrame(corr_df, columns=[\"corr\"])\n",
    "corr_df.index.names = ['user_id_1', 'user_id_2']\n",
    "corr_df = corr_df.reset_index()\n",
    "corr_df.head()\n",
    "\n",
    "# Examining the relationship between random user and selected users\n",
    "top_users = corr_df[(corr_df[\"user_id_1\"] == random_user) & (corr_df[\"corr\"] >= 0.65)][\n",
    "    [\"user_id_2\", \"corr\"]].reset_index(drop=True)\n",
    "top_users = top_users.sort_values(by='corr', ascending=False)\n",
    "top_users.rename(columns={\"user_id_2\": \"userId\"}, inplace=True)"
   ]
  },
  {
   "cell_type": "code",
   "execution_count": 19,
   "id": "85965af7",
   "metadata": {},
   "outputs": [
    {
     "name": "stdout",
     "output_type": "stream",
     "text": [
      "   movieId  weighted_rating                           title\n",
      "0       53         3.952023                 Lamerica (1994)\n",
      "1     1922         3.763580                 Whatever (1998)\n",
      "2     2057         3.763580  Incredible Journey, The (1963)\n",
      "3     2485         3.763580           She's All That (1999)\n",
      "4     3118         3.763580              Tumbleweeds (1999)\n"
     ]
    }
   ],
   "source": [
    "# Weighted average recommendation score\n",
    "top_users_ratings = top_users.merge(rating[[\"userId\", \"movieId\", \"rating\"]], how='inner')\n",
    "top_users_ratings = top_users_ratings[top_users_ratings[\"userId\"] != random_user]\n",
    "top_users_ratings['weighted_rating'] = top_users_ratings['corr'] * top_users_ratings['rating']\n",
    "\n",
    "# Recommendation_df\n",
    "recommendation_df = top_users_ratings.groupby('movieId').agg({\"weighted_rating\": \"mean\"})\n",
    "recommendation_df = recommendation_df.reset_index()\n",
    "\n",
    "# User_based recommendation\n",
    "movies_to_be_recommend = recommendation_df[recommendation_df[\"weighted_rating\"] > 3.5].sort_values(\"weighted_rating\",\n",
    "                                                                                                   ascending=False)\n",
    "movies_to_be_recommend = movies_to_be_recommend.merge(movie[[\"movieId\", \"title\"]])[0:5]\n",
    "print(movies_to_be_recommend)"
   ]
  },
  {
   "cell_type": "code",
   "execution_count": 20,
   "id": "995bb791",
   "metadata": {},
   "outputs": [
    {
     "name": "stdout",
     "output_type": "stream",
     "text": [
      "7044\n"
     ]
    }
   ],
   "source": [
    "# Selection of the user's most recent highest rated movie\n",
    "user = 108170\n",
    "movie_id = rating[(rating[\"userId\"] == user) & (rating[\"rating\"] == 5.0)]. \\\n",
    "               sort_values(by=\"timestamp\", ascending=False)[\"movieId\"][0:1].values[0]\n",
    "print(movie_id)"
   ]
  },
  {
   "cell_type": "code",
   "execution_count": 23,
   "id": "34cbf0f7",
   "metadata": {},
   "outputs": [
    {
     "name": "stdout",
     "output_type": "stream",
     "text": [
      "['Hackers (1995)']\n"
     ]
    },
    {
     "data": {
      "text/plain": [
       "Index(['Bloodsport 2 (a.k.a. Bloodsport II: The Next Kumite) (1996)',\n",
       "       'Bad Girls (1994)', 'Next (2007)', 'Resident Evil: Apocalypse (2004)',\n",
       "       'X-Men Origins: Wolverine (2009)'],\n",
       "      dtype='object', name='title')"
      ]
     },
     "execution_count": 23,
     "metadata": {},
     "output_type": "execute_result"
    }
   ],
   "source": [
    "# Item_based recommendation\n",
    "\n",
    "def check_id(dataframe, id):\n",
    "    movie_name = dataframe[dataframe[\"movieId\"] == id][[\"title\"]].values[0].tolist()\n",
    "    print(movie_name)\n",
    "\n",
    "def item_based_recommender(movie_name, user_movie_df):\n",
    "    movie_name = user_movie_df[movie_name]\n",
    "    return user_movie_df.corrwith(movie_name).sort_values(ascending=False)[1:6].index\n",
    "\n",
    "check_id(movie, 170)\n",
    "item_based_recommender('Hackers (1995)', user_movie_df)"
   ]
  }
 ],
 "metadata": {
  "kernelspec": {
   "display_name": "Python 3 (ipykernel)",
   "language": "python",
   "name": "python3"
  },
  "language_info": {
   "codemirror_mode": {
    "name": "ipython",
    "version": 3
   },
   "file_extension": ".py",
   "mimetype": "text/x-python",
   "name": "python",
   "nbconvert_exporter": "python",
   "pygments_lexer": "ipython3",
   "version": "3.9.7"
  }
 },
 "nbformat": 4,
 "nbformat_minor": 5
}
